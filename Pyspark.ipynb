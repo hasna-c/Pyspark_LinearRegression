{
  "nbformat": 4,
  "nbformat_minor": 0,
  "metadata": {
    "colab": {
      "provenance": []
    },
    "kernelspec": {
      "name": "python3",
      "display_name": "Python 3"
    },
    "language_info": {
      "name": "python"
    }
  },
  "cells": [
    {
      "cell_type": "markdown",
      "source": [
        "# PySpark Machine Learning - Implement Linear Regression"
      ],
      "metadata": {
        "id": "RbYXNFE7jQjY"
      }
    },
    {
      "cell_type": "code",
      "source": [
        "!pip install pyspark\n",
        "\n",
        "\n"
      ],
      "metadata": {
        "colab": {
          "base_uri": "https://localhost:8080/"
        },
        "id": "FgR4f9lxpSm3",
        "outputId": "e49a9318-4ded-4885-ce13-b157c06e3600"
      },
      "execution_count": 41,
      "outputs": [
        {
          "output_type": "stream",
          "name": "stdout",
          "text": [
            "Looking in indexes: https://pypi.org/simple, https://us-python.pkg.dev/colab-wheels/public/simple/\n",
            "Requirement already satisfied: pyspark in /usr/local/lib/python3.8/dist-packages (3.3.2)\n",
            "Requirement already satisfied: py4j==0.10.9.5 in /usr/local/lib/python3.8/dist-packages (from pyspark) (0.10.9.5)\n"
          ]
        }
      ]
    },
    {
      "cell_type": "code",
      "execution_count": 42,
      "metadata": {
        "id": "GL1XB9KXjirp"
      },
      "outputs": [],
      "source": [
        "from pyspark.sql import SparkSession\n",
        "from pyspark.ml.stat import Correlation\n",
        "import pyspark.sql.functions as F"
      ]
    },
    {
      "cell_type": "code",
      "source": [
        "spark = SparkSession.builder.getOrCreate()"
      ],
      "metadata": {
        "id": "QeAXlkOPkwAk"
      },
      "execution_count": 43,
      "outputs": []
    },
    {
      "cell_type": "code",
      "execution_count": 44,
      "metadata": {
        "id": "szn443l_iLxu"
      },
      "outputs": [],
      "source": [
        "df = spark.read.csv(\"/content/drive/MyDrive/insurance.csv\",inferSchema=True,header=True)"
      ]
    },
    {
      "cell_type": "code",
      "source": [
        "df.show()"
      ],
      "metadata": {
        "colab": {
          "base_uri": "https://localhost:8080/"
        },
        "id": "MDcktwEcrLqv",
        "outputId": "b2da8ef9-e7c3-4a5f-e00b-0995e68de94a"
      },
      "execution_count": 45,
      "outputs": [
        {
          "output_type": "stream",
          "name": "stdout",
          "text": [
            "+---+------+----+--------+------+---------+--------+\n",
            "|age|   sex| bmi|children|smoker|   region|expenses|\n",
            "+---+------+----+--------+------+---------+--------+\n",
            "| 19|female|27.9|       0|   yes|southwest|16884.92|\n",
            "| 18|  male|33.8|       1|    no|southeast| 1725.55|\n",
            "| 28|  male|33.0|       3|    no|southeast| 4449.46|\n",
            "| 33|  male|22.7|       0|    no|northwest|21984.47|\n",
            "| 32|  male|28.9|       0|    no|northwest| 3866.86|\n",
            "| 31|female|25.7|       0|    no|southeast| 3756.62|\n",
            "| 46|female|33.4|       1|    no|southeast| 8240.59|\n",
            "| 37|female|27.7|       3|    no|northwest| 7281.51|\n",
            "| 37|  male|29.8|       2|    no|northeast| 6406.41|\n",
            "| 60|female|25.8|       0|    no|northwest|28923.14|\n",
            "| 25|  male|26.2|       0|    no|northeast| 2721.32|\n",
            "| 62|female|26.3|       0|   yes|southeast|27808.73|\n",
            "| 23|  male|34.4|       0|    no|southwest| 1826.84|\n",
            "| 56|female|39.8|       0|    no|southeast|11090.72|\n",
            "| 27|  male|42.1|       0|   yes|southeast|39611.76|\n",
            "| 19|  male|24.6|       1|    no|southwest| 1837.24|\n",
            "| 52|female|30.8|       1|    no|northeast|10797.34|\n",
            "| 23|  male|23.8|       0|    no|northeast| 2395.17|\n",
            "| 56|  male|40.3|       0|    no|southwest|10602.39|\n",
            "| 30|  male|35.3|       0|   yes|southwest|36837.47|\n",
            "+---+------+----+--------+------+---------+--------+\n",
            "only showing top 20 rows\n",
            "\n"
          ]
        }
      ]
    },
    {
      "cell_type": "markdown",
      "source": [
        "### Performing Exploratory Data Analysis"
      ],
      "metadata": {
        "id": "VDJ-ieHnsyNS"
      }
    },
    {
      "cell_type": "code",
      "source": [
        "df.describe().show()"
      ],
      "metadata": {
        "colab": {
          "base_uri": "https://localhost:8080/"
        },
        "id": "VSSPUYVms7MU",
        "outputId": "6f5b688b-2ed6-4970-dbbe-f31e9b8c8e84"
      },
      "execution_count": 46,
      "outputs": [
        {
          "output_type": "stream",
          "name": "stdout",
          "text": [
            "+-------+------------------+------+------------------+-----------------+------+---------+------------------+\n",
            "|summary|               age|   sex|               bmi|         children|smoker|   region|          expenses|\n",
            "+-------+------------------+------+------------------+-----------------+------+---------+------------------+\n",
            "|  count|              1338|  1338|              1338|             1338|  1338|     1338|              1338|\n",
            "|   mean| 39.20702541106129|  null|30.665470852017993|  1.0949177877429|  null|     null|13270.422414050803|\n",
            "| stddev|14.049960379216147|  null|  6.09838219000336|1.205492739781914|  null|     null|12110.011239706473|\n",
            "|    min|                18|female|              16.0|                0|    no|northeast|           1121.87|\n",
            "|    max|                64|  male|              53.1|                5|   yes|southwest|          63770.43|\n",
            "+-------+------------------+------+------------------+-----------------+------+---------+------------------+\n",
            "\n"
          ]
        }
      ]
    },
    {
      "cell_type": "markdown",
      "source": [
        "### Using StringIndexer for dealing with Categorical data"
      ],
      "metadata": {
        "id": "XH-9xDBLtdiQ"
      }
    },
    {
      "cell_type": "markdown",
      "source": [
        " StringIndexer: It is used to convert a string column into numerical form. It allocates unique values to each of the categories present in the respective column."
      ],
      "metadata": {
        "id": "lU5PHmdmtqOU"
      }
    },
    {
      "cell_type": "code",
      "source": [
        "from pyspark.ml.feature import StringIndexer"
      ],
      "metadata": {
        "id": "q4VUXBxqt6vY"
      },
      "execution_count": 47,
      "outputs": []
    },
    {
      "cell_type": "code",
      "source": [
        "indexer=StringIndexer(inputCols=[\"sex\",\"smoker\",\"region\"],outputCols=['sex_cat','smoker_cat','region_cat'])\n",
        "indexed=indexer.fit(df).transform(df)"
      ],
      "metadata": {
        "id": "A1cFpPY59fcg"
      },
      "execution_count": 48,
      "outputs": []
    },
    {
      "cell_type": "code",
      "source": [
        "indexed.show()"
      ],
      "metadata": {
        "colab": {
          "base_uri": "https://localhost:8080/"
        },
        "id": "Lsm1PYgMykbH",
        "outputId": "26e5cb52-8b29-4876-fd69-ef4ebb454b0d"
      },
      "execution_count": 49,
      "outputs": [
        {
          "output_type": "stream",
          "name": "stdout",
          "text": [
            "+---+------+----+--------+------+---------+--------+-------+----------+----------+\n",
            "|age|   sex| bmi|children|smoker|   region|expenses|sex_cat|smoker_cat|region_cat|\n",
            "+---+------+----+--------+------+---------+--------+-------+----------+----------+\n",
            "| 19|female|27.9|       0|   yes|southwest|16884.92|    1.0|       1.0|       2.0|\n",
            "| 18|  male|33.8|       1|    no|southeast| 1725.55|    0.0|       0.0|       0.0|\n",
            "| 28|  male|33.0|       3|    no|southeast| 4449.46|    0.0|       0.0|       0.0|\n",
            "| 33|  male|22.7|       0|    no|northwest|21984.47|    0.0|       0.0|       1.0|\n",
            "| 32|  male|28.9|       0|    no|northwest| 3866.86|    0.0|       0.0|       1.0|\n",
            "| 31|female|25.7|       0|    no|southeast| 3756.62|    1.0|       0.0|       0.0|\n",
            "| 46|female|33.4|       1|    no|southeast| 8240.59|    1.0|       0.0|       0.0|\n",
            "| 37|female|27.7|       3|    no|northwest| 7281.51|    1.0|       0.0|       1.0|\n",
            "| 37|  male|29.8|       2|    no|northeast| 6406.41|    0.0|       0.0|       3.0|\n",
            "| 60|female|25.8|       0|    no|northwest|28923.14|    1.0|       0.0|       1.0|\n",
            "| 25|  male|26.2|       0|    no|northeast| 2721.32|    0.0|       0.0|       3.0|\n",
            "| 62|female|26.3|       0|   yes|southeast|27808.73|    1.0|       1.0|       0.0|\n",
            "| 23|  male|34.4|       0|    no|southwest| 1826.84|    0.0|       0.0|       2.0|\n",
            "| 56|female|39.8|       0|    no|southeast|11090.72|    1.0|       0.0|       0.0|\n",
            "| 27|  male|42.1|       0|   yes|southeast|39611.76|    0.0|       1.0|       0.0|\n",
            "| 19|  male|24.6|       1|    no|southwest| 1837.24|    0.0|       0.0|       2.0|\n",
            "| 52|female|30.8|       1|    no|northeast|10797.34|    1.0|       0.0|       3.0|\n",
            "| 23|  male|23.8|       0|    no|northeast| 2395.17|    0.0|       0.0|       3.0|\n",
            "| 56|  male|40.3|       0|    no|southwest|10602.39|    0.0|       0.0|       2.0|\n",
            "| 30|  male|35.3|       0|   yes|southwest|36837.47|    0.0|       1.0|       2.0|\n",
            "+---+------+----+--------+------+---------+--------+-------+----------+----------+\n",
            "only showing top 20 rows\n",
            "\n"
          ]
        }
      ]
    },
    {
      "cell_type": "markdown",
      "source": [
        "### Feature Engineering"
      ],
      "metadata": {
        "id": "MoaS29ZkFElu"
      }
    },
    {
      "cell_type": "code",
      "source": [
        "from pyspark.ml.linalg import Vector\n",
        "from pyspark.ml.feature import VectorAssembler"
      ],
      "metadata": {
        "id": "wyRzsl_FFOvv"
      },
      "execution_count": 50,
      "outputs": []
    },
    {
      "cell_type": "code",
      "source": [
        "assembler=VectorAssembler(inputCols=['age','bmi','children','sex_cat','smoker_cat','region_cat'],outputCol='features')"
      ],
      "metadata": {
        "id": "R0Lvaf1mFtRD"
      },
      "execution_count": 51,
      "outputs": []
    },
    {
      "cell_type": "code",
      "source": [
        "assembler\n",
        "\n"
      ],
      "metadata": {
        "colab": {
          "base_uri": "https://localhost:8080/"
        },
        "id": "Vi1E5AEVHHRZ",
        "outputId": "ac773a95-5cfc-4d72-8125-af2820386b27"
      },
      "execution_count": 52,
      "outputs": [
        {
          "output_type": "execute_result",
          "data": {
            "text/plain": [
              "VectorAssembler_5f3cbbc0b736"
            ]
          },
          "metadata": {},
          "execution_count": 52
        }
      ]
    },
    {
      "cell_type": "code",
      "source": [
        "assembler.transform(indexed).show()"
      ],
      "metadata": {
        "id": "uJIX3BroIlZQ",
        "colab": {
          "base_uri": "https://localhost:8080/"
        },
        "outputId": "029b38ac-ea57-4dee-e40e-0d382d6bd5af"
      },
      "execution_count": 87,
      "outputs": [
        {
          "output_type": "stream",
          "name": "stdout",
          "text": [
            "+---+------+----+--------+------+---------+--------+-------+----------+----------+--------------------+\n",
            "|age|   sex| bmi|children|smoker|   region|expenses|sex_cat|smoker_cat|region_cat|            features|\n",
            "+---+------+----+--------+------+---------+--------+-------+----------+----------+--------------------+\n",
            "| 19|female|27.9|       0|   yes|southwest|16884.92|    1.0|       1.0|       2.0|[19.0,27.9,0.0,1....|\n",
            "| 18|  male|33.8|       1|    no|southeast| 1725.55|    0.0|       0.0|       0.0|[18.0,33.8,1.0,0....|\n",
            "| 28|  male|33.0|       3|    no|southeast| 4449.46|    0.0|       0.0|       0.0|[28.0,33.0,3.0,0....|\n",
            "| 33|  male|22.7|       0|    no|northwest|21984.47|    0.0|       0.0|       1.0|[33.0,22.7,0.0,0....|\n",
            "| 32|  male|28.9|       0|    no|northwest| 3866.86|    0.0|       0.0|       1.0|[32.0,28.9,0.0,0....|\n",
            "| 31|female|25.7|       0|    no|southeast| 3756.62|    1.0|       0.0|       0.0|[31.0,25.7,0.0,1....|\n",
            "| 46|female|33.4|       1|    no|southeast| 8240.59|    1.0|       0.0|       0.0|[46.0,33.4,1.0,1....|\n",
            "| 37|female|27.7|       3|    no|northwest| 7281.51|    1.0|       0.0|       1.0|[37.0,27.7,3.0,1....|\n",
            "| 37|  male|29.8|       2|    no|northeast| 6406.41|    0.0|       0.0|       3.0|[37.0,29.8,2.0,0....|\n",
            "| 60|female|25.8|       0|    no|northwest|28923.14|    1.0|       0.0|       1.0|[60.0,25.8,0.0,1....|\n",
            "| 25|  male|26.2|       0|    no|northeast| 2721.32|    0.0|       0.0|       3.0|[25.0,26.2,0.0,0....|\n",
            "| 62|female|26.3|       0|   yes|southeast|27808.73|    1.0|       1.0|       0.0|[62.0,26.3,0.0,1....|\n",
            "| 23|  male|34.4|       0|    no|southwest| 1826.84|    0.0|       0.0|       2.0|[23.0,34.4,0.0,0....|\n",
            "| 56|female|39.8|       0|    no|southeast|11090.72|    1.0|       0.0|       0.0|[56.0,39.8,0.0,1....|\n",
            "| 27|  male|42.1|       0|   yes|southeast|39611.76|    0.0|       1.0|       0.0|[27.0,42.1,0.0,0....|\n",
            "| 19|  male|24.6|       1|    no|southwest| 1837.24|    0.0|       0.0|       2.0|[19.0,24.6,1.0,0....|\n",
            "| 52|female|30.8|       1|    no|northeast|10797.34|    1.0|       0.0|       3.0|[52.0,30.8,1.0,1....|\n",
            "| 23|  male|23.8|       0|    no|northeast| 2395.17|    0.0|       0.0|       3.0|[23.0,23.8,0.0,0....|\n",
            "| 56|  male|40.3|       0|    no|southwest|10602.39|    0.0|       0.0|       2.0|[56.0,40.3,0.0,0....|\n",
            "| 30|  male|35.3|       0|   yes|southwest|36837.47|    0.0|       1.0|       2.0|[30.0,35.3,0.0,0....|\n",
            "+---+------+----+--------+------+---------+--------+-------+----------+----------+--------------------+\n",
            "only showing top 20 rows\n",
            "\n"
          ]
        }
      ]
    },
    {
      "cell_type": "code",
      "source": [
        "selected_cols = assembler.transform(indexed).select(\"features\",\"expenses\")\n",
        "selected_cols.show(5)\n"
      ],
      "metadata": {
        "colab": {
          "base_uri": "https://localhost:8080/"
        },
        "id": "YuHgU-jvpRaz",
        "outputId": "a77f565e-2ed6-4b9c-d3fd-b32c76bbbda4"
      },
      "execution_count": 94,
      "outputs": [
        {
          "output_type": "stream",
          "name": "stdout",
          "text": [
            "+--------------------+--------+\n",
            "|            features|expenses|\n",
            "+--------------------+--------+\n",
            "|[19.0,27.9,0.0,1....|16884.92|\n",
            "|[18.0,33.8,1.0,0....| 1725.55|\n",
            "|[28.0,33.0,3.0,0....| 4449.46|\n",
            "|[33.0,22.7,0.0,0....|21984.47|\n",
            "|[32.0,28.9,0.0,0....| 3866.86|\n",
            "+--------------------+--------+\n",
            "only showing top 5 rows\n",
            "\n"
          ]
        }
      ]
    },
    {
      "cell_type": "markdown",
      "source": [
        "### Splitting the Dataset"
      ],
      "metadata": {
        "id": "h8Uo3klpzYw7"
      }
    },
    {
      "cell_type": "code",
      "source": [
        "final_data=assembler.transform(indexed).select(\"features\",\"expenses\")"
      ],
      "metadata": {
        "id": "7tmkHcywzgh0"
      },
      "execution_count": 102,
      "outputs": []
    },
    {
      "cell_type": "code",
      "source": [
        "train_data,test_data=final_data.randomSplit([0.7,0.3])"
      ],
      "metadata": {
        "id": "zN1C0l6tz_jj"
      },
      "execution_count": 103,
      "outputs": []
    },
    {
      "cell_type": "code",
      "source": [
        "train_data.describe().show()"
      ],
      "metadata": {
        "colab": {
          "base_uri": "https://localhost:8080/"
        },
        "id": "zSD309NJ0e6h",
        "outputId": "119492a2-c10d-4ff6-eb69-9ef264d593c8"
      },
      "execution_count": 104,
      "outputs": [
        {
          "output_type": "stream",
          "name": "stdout",
          "text": [
            "+-------+------------------+\n",
            "|summary|          expenses|\n",
            "+-------+------------------+\n",
            "|  count|               931|\n",
            "|   mean|13120.614607948444|\n",
            "| stddev|11980.636329352174|\n",
            "|    min|           1121.87|\n",
            "|    max|          63770.43|\n",
            "+-------+------------------+\n",
            "\n"
          ]
        }
      ]
    },
    {
      "cell_type": "code",
      "source": [
        "test_data.describe().show()"
      ],
      "metadata": {
        "colab": {
          "base_uri": "https://localhost:8080/"
        },
        "id": "dUqdxMTH0j-4",
        "outputId": "3fced4c2-60ec-4ce3-be05-1973b31c6643"
      },
      "execution_count": 109,
      "outputs": [
        {
          "output_type": "stream",
          "name": "stdout",
          "text": [
            "+-------+------------------+\n",
            "|summary|          expenses|\n",
            "+-------+------------------+\n",
            "|  count|               407|\n",
            "|   mean|13613.103169533179|\n",
            "| stddev|  12409.0168813331|\n",
            "|    min|           1137.47|\n",
            "|    max|           55135.4|\n",
            "+-------+------------------+\n",
            "\n"
          ]
        }
      ]
    },
    {
      "cell_type": "markdown",
      "source": [
        "### Linear Regression"
      ],
      "metadata": {
        "id": "8mNuhH4C2-O_"
      }
    },
    {
      "cell_type": "code",
      "source": [
        "from pyspark.ml.regression import LinearRegression"
      ],
      "metadata": {
        "id": "KNw-YVA63EE8"
      },
      "execution_count": 110,
      "outputs": []
    },
    {
      "cell_type": "code",
      "source": [
        "#creating an object of class LinearRegression\n",
        "#object takes features and label as input arguments\n",
        "ship_lr=LinearRegression(featuresCol='features',labelCol='expenses')"
      ],
      "metadata": {
        "id": "tePuNH0K3MvV"
      },
      "execution_count": 111,
      "outputs": []
    },
    {
      "cell_type": "code",
      "source": [
        "#pass train_data to train_model\n",
        "trained_ship_model=ship_lr.fit(train_data)"
      ],
      "metadata": {
        "id": "8ksLBKZs34Pp"
      },
      "execution_count": 112,
      "outputs": []
    },
    {
      "cell_type": "code",
      "source": [
        "#evaluating model trained for Rsquared error\n",
        "ship_results=trained_ship_model.evaluate(train_data)"
      ],
      "metadata": {
        "id": "q4v74w4O4QYj"
      },
      "execution_count": 113,
      "outputs": []
    },
    {
      "cell_type": "code",
      "source": [
        "print('Rsquared Error :',ship_results.r2)"
      ],
      "metadata": {
        "colab": {
          "base_uri": "https://localhost:8080/"
        },
        "id": "bGzdHDlp4tXg",
        "outputId": "09390209-862c-48d5-bc0f-5c17c9a7e552"
      },
      "execution_count": 114,
      "outputs": [
        {
          "output_type": "stream",
          "name": "stdout",
          "text": [
            "Rsquared Error : 0.7492539639895415\n"
          ]
        }
      ]
    },
    {
      "cell_type": "code",
      "source": [
        "print(ship_results.meanSquaredError)"
      ],
      "metadata": {
        "colab": {
          "base_uri": "https://localhost:8080/"
        },
        "id": "ZoNp6WlA5Eg4",
        "outputId": "caa70898-2c3b-4868-cb2c-226c99f53e23"
      },
      "execution_count": 115,
      "outputs": [
        {
          "output_type": "stream",
          "name": "stdout",
          "text": [
            "35952336.04952776\n"
          ]
        }
      ]
    },
    {
      "cell_type": "markdown",
      "source": [
        "### Predictions from the Model"
      ],
      "metadata": {
        "id": "TUl1-qaU5VrZ"
      }
    },
    {
      "cell_type": "code",
      "source": [
        "#testing model on unlabeled data\n",
        "#create unlabeled data from test_data\n",
        "#testing model on unlabeled data\n",
        "unlabeled_data=test_data.select('features')\n",
        "unlabeled_data.show(5)"
      ],
      "metadata": {
        "colab": {
          "base_uri": "https://localhost:8080/"
        },
        "id": "qSYALugZ5dNO",
        "outputId": "ee816bc1-13b7-41e7-ee0d-dba82f4832b8"
      },
      "execution_count": 117,
      "outputs": [
        {
          "output_type": "stream",
          "name": "stdout",
          "text": [
            "+--------------------+\n",
            "|            features|\n",
            "+--------------------+\n",
            "|(6,[0,1],[18.0,34...|\n",
            "|(6,[0,1],[22.0,33...|\n",
            "|(6,[0,1],[23.0,41...|\n",
            "|(6,[0,1],[24.0,32...|\n",
            "|(6,[0,1],[26.0,35...|\n",
            "+--------------------+\n",
            "only showing top 5 rows\n",
            "\n"
          ]
        }
      ]
    },
    {
      "cell_type": "markdown",
      "source": [
        "### PySpark Linear Regression Predict"
      ],
      "metadata": {
        "id": "4xbs7uay6ELC"
      }
    },
    {
      "cell_type": "code",
      "source": [
        "predictions=trained_ship_model.transform(unlabeled_data)\n",
        "predictions.show()"
      ],
      "metadata": {
        "colab": {
          "base_uri": "https://localhost:8080/"
        },
        "id": "I8rz8KWT6LV6",
        "outputId": "4e6186b1-d0d8-4555-8525-a1d518942ac2"
      },
      "execution_count": 118,
      "outputs": [
        {
          "output_type": "stream",
          "name": "stdout",
          "text": [
            "+--------------------+-------------------+\n",
            "|            features|         prediction|\n",
            "+--------------------+-------------------+\n",
            "|(6,[0,1],[18.0,34...| 3817.2938701845815|\n",
            "|(6,[0,1],[22.0,33...|  4580.281017474421|\n",
            "|(6,[0,1],[23.0,41...|  7403.494146046261|\n",
            "|(6,[0,1],[24.0,32...|  4483.144347164909|\n",
            "|(6,[0,1],[26.0,35...|  6045.259189230765|\n",
            "|(6,[0,1],[27.0,32...|  5422.334561330692|\n",
            "|(6,[0,1],[29.0,27...|   4367.93740311231|\n",
            "|(6,[0,1],[33.0,30...|  6088.185038311018|\n",
            "|(6,[0,1],[34.0,34...|  7571.233483810447|\n",
            "|(6,[0,1],[42.0,24...|   6512.60446103619|\n",
            "|(6,[0,1],[48.0,40...| 12826.291816678826|\n",
            "|(6,[0,1],[52.0,34...| 11834.301402802412|\n",
            "|(6,[0,1],[59.0,26...|  11047.60149569498|\n",
            "|(6,[0,1],[62.0,39...| 16071.103124938589|\n",
            "|[18.0,16.0,0.0,0....|-1481.1075870262976|\n",
            "|[18.0,21.6,0.0,0....| 24028.256108076323|\n",
            "|[18.0,23.1,0.0,0....|  784.4089010246862|\n",
            "|[18.0,23.8,0.0,0....| 1007.7696815367526|\n",
            "|[18.0,25.1,0.0,1....|  1251.389781482043|\n",
            "|[18.0,26.1,0.0,0....|  1741.669388933551|\n",
            "+--------------------+-------------------+\n",
            "only showing top 20 rows\n",
            "\n"
          ]
        }
      ]
    },
    {
      "cell_type": "code",
      "source": [],
      "metadata": {
        "id": "eXCtx2cs6mif"
      },
      "execution_count": null,
      "outputs": []
    }
  ]
}